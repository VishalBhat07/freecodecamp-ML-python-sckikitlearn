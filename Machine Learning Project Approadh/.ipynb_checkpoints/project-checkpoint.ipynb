{
 "cells": [
  {
   "cell_type": "markdown",
   "id": "85c8b90a-fe23-4aab-99de-bf4b145f8ab0",
   "metadata": {},
   "source": [
    "## How to Approach Machine Learning Projects\n",
    "\n",
    "This tutorial is a part of the [Zero to Data Science Bootcamp by Jovian](https://zerotodatascience.com).\n",
    "\n",
    "![](https://i.imgur.com/kKdAALX.png)\n"
   ]
  },
  {
   "cell_type": "markdown",
   "id": "fc6297e9-052a-45e1-b87e-5d5a495ed4a0",
   "metadata": {},
   "source": [
    "In this tutorial, we'll explore a step-by-step process for approaching ML problems:\n",
    "\n",
    "1. Understand the business requirements and the nature of the available data.\n",
    "2. Classify the problem as supervised/unsupervised and regression/classification.\n",
    "3. Download, clean & explore the data and create new features that may improve models.\n",
    "4. Create training/test/validation sets and prepare the data for training ML models.\n",
    "5. Create a quick & easy baseline model to evaluate and benchmark future models.\n",
    "6. Pick a modeling strategy, train a model, and tune hyperparameters to achieve optimal fit.\n",
    "7. Experiment and combine results from multiple strategies to get a better result.\n",
    "8. Interpret models, study individual predictions, and present your findings. \n"
   ]
  },
  {
   "cell_type": "markdown",
   "id": "d1b9c7eb-320c-46fd-a7ce-2d1c80ba78da",
   "metadata": {},
   "source": [
    "## Step 1 - Understand Business Requirements & Nature of Data\n",
    "\n",
    "<img src=\"https://i.imgur.com/63XEArk.png\" width=\"640\">\n",
    "\n",
    "\n",
    "Most machine learning models are trained to serve a real-world use case. It's important to understand the business requirements, modeling objectives and the nature of the data available before you start building a machine learning model."
   ]
  },
  {
   "cell_type": "markdown",
   "id": "e62b4d3b-c23a-4e62-b64e-6dd2a1a32b2d",
   "metadata": {},
   "source": [
    "## Step 2 - Classify the problem as supervised/unsupervised & regression/classification\n",
    "\n",
    "<img src=\"https://i.imgur.com/rqt2A7F.png\" width=\"640\">\n",
    "\n",
    "Here's the landscape of machine learning([source](https://medium.datadriveninvestor.com/machine-learning-in-10-minutes-354d83e5922e)):\n",
    "\n",
    "<img src=\"https://miro.medium.com/max/842/1*tlQwBmbL6RkuuFq8OPJofw.png\" width=\"640\">"
   ]
  },
  {
   "cell_type": "markdown",
   "id": "6610d442-c68d-4268-91e9-843d3a944ea1",
   "metadata": {},
   "source": [
    "\n",
    "\n",
    "Here are the topics in machine learning that we're studying in this course ([source](https://vas3k.com/blog/machine_learning/)): \n",
    "\n",
    "<img src=\"https://i.imgur.com/VbVFAsg.png\" width=\"640\">\n",
    "\n",
    "\n"
   ]
  },
  {
   "cell_type": "markdown",
   "id": "c8a8703c-f7c9-4b98-9cdf-592425c15567",
   "metadata": {},
   "source": [
    "### Loss Functions and Evaluation Metrics\n",
    "\n",
    "Once you have identified the type of problem you're solving, you need to pick an appropriate evaluation metric. Also, depending on the kind of model you train, your model will also use a loss/cost function to optimize during the training process.\n",
    "\n",
    "* **Evaluation metrics** - they're used by humans to evaluate the ML model\n",
    "\n",
    "* **Loss functions** - they're used by computers to optimize the ML model\n",
    "\n",
    "They are often the same (e.g. RMSE for regression problems), but they can be different (e.g. Cross entropy and Accuracy for classification problems).\n",
    "\n",
    "See this article for a survey of common loss functions and evaluation metrics: https://towardsdatascience.com/11-evaluation-metrics-data-scientists-should-be-familiar-with-lessons-from-a-high-rank-kagglers-8596f75e58a7"
   ]
  },
  {
   "cell_type": "markdown",
   "id": "0724ac0c-f45e-4c72-8240-05f5b35855f9",
   "metadata": {},
   "source": [
    "## Step 3 - Download, clean & explore the data and create new features\n",
    "\n",
    "<img src=\"https://i.imgur.com/0f7foe7.png\" width=\"640\">"
   ]
  },
  {
   "cell_type": "markdown",
   "id": "bc030258-48f7-4d59-9d37-a70785f0719b",
   "metadata": {},
   "source": [
    "### Cleaning Data\n",
    "\n",
    "The first step is to check the column data types and identify if there are any null values."
   ]
  },
  {
   "cell_type": "markdown",
   "id": "c33f5e20-20ca-4c05-9c9d-d0a65199e1e6",
   "metadata": {},
   "source": [
    "### Feature Engineering\n",
    "\n",
    "Feature engineer is the process of creating new features (columns) by transforming/combining existing features or by incorporating data from external sources. \n",
    "\n",
    "\n",
    "For example, here are some features that can be extracted from the \"Date\" column:\n",
    "\n",
    "1. Day of week\n",
    "2. Day or month\n",
    "3. Month\n",
    "4. Year\n",
    "5. Weekend/Weekday\n",
    "6. Month/Quarter End\n",
    "\n"
   ]
  },
  {
   "cell_type": "markdown",
   "id": "0152f132-8b93-417d-98ea-7335aa83ee32",
   "metadata": {},
   "source": [
    "## Step 4 - Create a training/test/validation split and prepare the data for training\n",
    "\n",
    "<img src=\"https://i.imgur.com/XZ9aP10.png\" width=\"640\">"
   ]
  },
  {
   "cell_type": "markdown",
   "id": "79eeba00-3fc2-4683-a05f-54acc532963f",
   "metadata": {},
   "source": [
    " ## Step 5 - Create quick & easy baseline models to benchmark future models\n",
    "\n",
    "<img src=\"https://i.imgur.com/1DLgiEz.png\" width=\"640\">"
   ]
  },
  {
   "cell_type": "markdown",
   "id": "b0ba1c02-95c3-4b8b-a42a-5aa22e7765ad",
   "metadata": {},
   "source": [
    "## Step 6 - Pick a strategy, train a model & tune hyperparameters\n",
    "\n",
    "<img src=\"https://i.imgur.com/aRuE5mw.png\" width=\"640\">\n",
    "\n"
   ]
  },
  {
   "cell_type": "markdown",
   "id": "aebc48dc-9e31-43ea-9baa-94fd5c26286f",
   "metadata": {},
   "source": [
    "## Step 7 - Experiment and combine results from multiple strategies\n",
    "\n",
    "<img src=\"https://i.imgur.com/ZqM6R8w.png\" width=\"640\">"
   ]
  },
  {
   "cell_type": "code",
   "execution_count": null,
   "id": "8f45a7a9-ee07-4ac2-8c45-c90e6176854e",
   "metadata": {},
   "outputs": [],
   "source": []
  }
 ],
 "metadata": {
  "kernelspec": {
   "display_name": "Python 3 (ipykernel)",
   "language": "python",
   "name": "python3"
  },
  "language_info": {
   "codemirror_mode": {
    "name": "ipython",
    "version": 3
   },
   "file_extension": ".py",
   "mimetype": "text/x-python",
   "name": "python",
   "nbconvert_exporter": "python",
   "pygments_lexer": "ipython3",
   "version": "3.13.2"
  }
 },
 "nbformat": 4,
 "nbformat_minor": 5
}
